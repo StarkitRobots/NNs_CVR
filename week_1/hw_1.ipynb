{
  "cells": [
    {
      "cell_type": "markdown",
      "metadata": {
        "id": "vfbnjkeFHOxr"
      },
      "source": [
        "# Hometask 1\n",
        "\n",
        "Please, don't use Colab here. Now it suggests you the answer based on Gemini, so the hometask will be useless."
      ]
    },
    {
      "cell_type": "code",
      "execution_count": null,
      "metadata": {},
      "outputs": [],
      "source": [
        "!pip3 -q install torch"
      ]
    },
    {
      "cell_type": "code",
      "execution_count": 1,
      "metadata": {
        "id": "gdgOphApHa2x"
      },
      "outputs": [],
      "source": [
        "import torch"
      ]
    },
    {
      "cell_type": "markdown",
      "metadata": {
        "id": "uy39J_zVHS0r"
      },
      "source": [
        "## Tensor creation"
      ]
    },
    {
      "cell_type": "markdown",
      "metadata": {
        "id": "F4gFYl-7HYfl"
      },
      "source": [
        "### 1. Create a 3x3 tensor filled with zeros."
      ]
    },
    {
      "cell_type": "code",
      "execution_count": null,
      "metadata": {
        "id": "__FzfeuGHP6H"
      },
      "outputs": [],
      "source": [
        "ans = # your code here\n",
        "assert torch.equal(ans, torch.tensor([[0., 0., 0.], [0., 0., 0.], [0., 0., 0.]]))"
      ]
    },
    {
      "cell_type": "markdown",
      "metadata": {
        "id": "vLBzb6o5HkAl"
      },
      "source": [
        "### 2. Create a tensor with values from 1 to 10"
      ]
    },
    {
      "cell_type": "code",
      "execution_count": null,
      "metadata": {
        "id": "hOzVsVYwHnMW"
      },
      "outputs": [],
      "source": [
        "ans = # your code here\n",
        "assert torch.equal(ans, torch.tensor([1, 2, 3, 4, 5, 6, 7, 8, 9, 10]))"
      ]
    },
    {
      "cell_type": "markdown",
      "metadata": {
        "id": "Z8n09WNsHyPr"
      },
      "source": [
        "### 3. Create a random tensor of shape (2,3) with uniformly distributed values between 0 and 1."
      ]
    },
    {
      "cell_type": "code",
      "execution_count": null,
      "metadata": {
        "id": "iz5HeWWnH6Es"
      },
      "outputs": [],
      "source": [
        "ans = # your code here\n",
        "assert ans.shape == (2, 3) and (ans >= 0).all() and (ans <= 1).all()"
      ]
    },
    {
      "cell_type": "markdown",
      "metadata": {
        "id": "BAuVaxSPIGzr"
      },
      "source": [
        "### 4. Create a tensor of ones with dtype torch.int32."
      ]
    },
    {
      "cell_type": "code",
      "execution_count": null,
      "metadata": {
        "id": "ATI07ln_IJ_z"
      },
      "outputs": [],
      "source": [
        "ans = # your code here\n",
        "assert ans.dtype == torch.int32"
      ]
    },
    {
      "cell_type": "markdown",
      "metadata": {
        "id": "gSyc41Y6Ih7x"
      },
      "source": [
        "## Multiplication (like in linal) of Tensors\n"
      ]
    },
    {
      "cell_type": "markdown",
      "metadata": {
        "id": "tf24Etw8I7_T"
      },
      "source": [
        "## 5. Perform matrix multiplication between a 2x3 and a 3x2 tensor."
      ]
    },
    {
      "cell_type": "code",
      "execution_count": null,
      "metadata": {
        "id": "Tq_o_uajIVRz"
      },
      "outputs": [],
      "source": [
        "a, b = torch.ones(2, 3), torch.ones(3, 2)\n",
        "ans = # your code here\n",
        "assert torch.equal(ans, torch.ones(2, 2) * 3)"
      ]
    },
    {
      "cell_type": "markdown",
      "metadata": {
        "id": "4Ba8EG5KJKgr"
      },
      "source": [
        "### 6. Compute the dot product of two 1D tensors."
      ]
    },
    {
      "cell_type": "code",
      "execution_count": null,
      "metadata": {
        "id": "B3xhfr73JM0E"
      },
      "outputs": [],
      "source": [
        "a, b = torch.tensor([1, 2, 3]), torch.tensor([4, 5, 6])\n",
        "ans = # your code here\n",
        "assert ans == 32"
      ]
    },
    {
      "cell_type": "markdown",
      "metadata": {
        "id": "6uwYt201JTDY"
      },
      "source": [
        "## Tensor Reshaping"
      ]
    },
    {
      "cell_type": "markdown",
      "metadata": {
        "id": "gIKBoHhqJVqP"
      },
      "source": [
        "### 7. Reshape a (12,) tensor into a (3,4) tensor."
      ]
    },
    {
      "cell_type": "code",
      "execution_count": null,
      "metadata": {
        "id": "e8QLS3lfJUrT"
      },
      "outputs": [],
      "source": [
        "a = torch.arange(12)\n",
        "ans = # your code here\n",
        "assert ans.shape == (3, 4)"
      ]
    },
    {
      "cell_type": "markdown",
      "metadata": {
        "id": "owE6hljQJsJL"
      },
      "source": [
        "### 8. Make a view of shape (2, 6) for tensor a"
      ]
    },
    {
      "cell_type": "code",
      "execution_count": null,
      "metadata": {
        "id": "CmhjniEPJo32"
      },
      "outputs": [],
      "source": [
        "a = torch.arange(12)\n",
        "ans = # your code here\n",
        "assert ans.shape == (2, 6)"
      ]
    },
    {
      "cell_type": "markdown",
      "metadata": {
        "id": "F5hA4ZMVKHnt"
      },
      "source": [
        "### Broadcasting"
      ]
    },
    {
      "cell_type": "markdown",
      "metadata": {
        "id": "-Y0k23JiKL3u"
      },
      "source": [
        "### 9. Add torch.tensor([10, 20, 3]) to each column of tensor b"
      ]
    },
    {
      "cell_type": "code",
      "execution_count": null,
      "metadata": {
        "id": "pAytS9AYKI6J"
      },
      "outputs": [],
      "source": [
        "a = torch.tensor([10, 20, 30])\n",
        "b = torch.arange(9).reshape(3, 3)\n",
        "ans = # your code here\n",
        "assert torch.equal(ans, torch.tensor([[10, 11, 12],\n",
        "                                      [23, 24, 25],\n",
        "                                      [36, 37, 38]]))"
      ]
    },
    {
      "cell_type": "markdown",
      "metadata": {
        "id": "sMq5lmPyL-YH"
      },
      "source": [
        "### 10. Add torch.tensor([10, 20, 30]) to each row of tensor b"
      ]
    },
    {
      "cell_type": "code",
      "execution_count": null,
      "metadata": {
        "id": "KgcVtYSMLmSC"
      },
      "outputs": [],
      "source": [
        "a = torch.tensor([10, 20, 30])\n",
        "b = torch.arange(9).reshape(3, 3)\n",
        "ans = # your code here\n",
        "assert torch.equal(ans, torch.tensor([[10, 21, 32],\n",
        "                                      [13, 24, 35],\n",
        "                                      [16, 27, 38]]))"
      ]
    },
    {
      "cell_type": "markdown",
      "metadata": {
        "id": "pNCxYBi1Lb7_"
      },
      "source": [
        "### 10. Find sum a and b using broadcasting, that the output will be of shape (2, 3, 4, 5)"
      ]
    },
    {
      "cell_type": "code",
      "execution_count": 15,
      "metadata": {
        "colab": {
          "base_uri": "https://localhost:8080/"
        },
        "id": "-wF-H25aLbFw",
        "outputId": "43b0b00b-9ee8-458f-c3b5-c3e1f9563bc8"
      },
      "outputs": [
        {
          "data": {
            "text/plain": [
              "torch.Size([2, 3, 4, 5])"
            ]
          },
          "execution_count": 15,
          "metadata": {},
          "output_type": "execute_result"
        }
      ],
      "source": [
        "# hist: remind the seminar notebook\n",
        "\n",
        "a = torch.arange(8).reshape(2, 4)\n",
        "b = torch.arange(15).reshape(3, 5)\n",
        "ans = ans = # your code here\n",
        "assert ans.shape == (2, 3, 4, 5)"
      ]
    },
    {
      "cell_type": "markdown",
      "metadata": {
        "id": "nZkH0LzrNOUO"
      },
      "source": [
        "## Contiguity and Reshaping"
      ]
    },
    {
      "cell_type": "markdown",
      "metadata": {
        "id": "_tMfBURGNQAW"
      },
      "source": [
        "As you know, we can't take view for any tensor. Let's consider the following situation"
      ]
    },
    {
      "cell_type": "code",
      "execution_count": 20,
      "metadata": {
        "colab": {
          "base_uri": "https://localhost:8080/"
        },
        "id": "ws_UOeDGLIE_",
        "outputId": "662c8a0a-f842-4a3f-a31d-9f740b96e251"
      },
      "outputs": [
        {
          "name": "stdout",
          "output_type": "stream",
          "text": [
            "tensor([[1, 4],\n",
            "        [2, 5],\n",
            "        [3, 6]]) torch.Size([3, 2])\n"
          ]
        }
      ],
      "source": [
        "a = torch.tensor([[1, 2, 3], [4, 5, 6]])\n",
        "b = a.T\n",
        "print(b, b.shape)"
      ]
    },
    {
      "cell_type": "markdown",
      "metadata": {
        "id": "aC-COzCuOAhC"
      },
      "source": [
        "Suppose, we want to flatten this array (make it of shape (6,) again). Keep in mind, that flattened array will not be the same as tensor a. If we try to make view of b, we will get the following error"
      ]
    },
    {
      "cell_type": "code",
      "execution_count": 21,
      "metadata": {
        "colab": {
          "base_uri": "https://localhost:8080/",
          "height": 162
        },
        "id": "mfGwqM7uNt0C",
        "outputId": "b16d0df6-4206-47eb-c306-b92bb73c382f"
      },
      "outputs": [
        {
          "ename": "RuntimeError",
          "evalue": "view size is not compatible with input tensor's size and stride (at least one dimension spans across two contiguous subspaces). Use .reshape(...) instead.",
          "output_type": "error",
          "traceback": [
            "\u001b[0;31m---------------------------------------------------------------------------\u001b[0m",
            "\u001b[0;31mRuntimeError\u001b[0m                              Traceback (most recent call last)",
            "\u001b[0;32m<ipython-input-21-235fe9dfeb5a>\u001b[0m in \u001b[0;36m<cell line: 0>\u001b[0;34m()\u001b[0m\n\u001b[0;32m----> 1\u001b[0;31m \u001b[0mb\u001b[0m\u001b[0;34m.\u001b[0m\u001b[0mview\u001b[0m\u001b[0;34m(\u001b[0m\u001b[0;36m6\u001b[0m\u001b[0;34m)\u001b[0m\u001b[0;34m\u001b[0m\u001b[0;34m\u001b[0m\u001b[0m\n\u001b[0m",
            "\u001b[0;31mRuntimeError\u001b[0m: view size is not compatible with input tensor's size and stride (at least one dimension spans across two contiguous subspaces). Use .reshape(...) instead."
          ]
        }
      ],
      "source": [
        "b.view(6)"
      ]
    },
    {
      "cell_type": "markdown",
      "metadata": {
        "id": "BIYixqqpOUQM"
      },
      "source": [
        "Fix this error, still using view (but adding some method)"
      ]
    },
    {
      "cell_type": "code",
      "execution_count": 25,
      "metadata": {
        "id": "JMM3Yc2sOTAc"
      },
      "outputs": [],
      "source": [
        "ans = # your code here\n",
        "assert torch.equal(ans, torch.tensor([1, 4, 2, 5, 3, 6]))"
      ]
    },
    {
      "cell_type": "markdown",
      "metadata": {
        "id": "ujqWuSsTO24j"
      },
      "source": [
        "Fix this error, without using .view(), but with using other method"
      ]
    },
    {
      "cell_type": "code",
      "execution_count": null,
      "metadata": {
        "id": "JkQuyyPSOfoZ"
      },
      "outputs": [],
      "source": [
        "ans = # your code here\n",
        "assert torch.equal(ans, torch.tensor([1, 4, 2, 5, 3, 6]))"
      ]
    }
  ],
  "metadata": {
    "colab": {
      "provenance": []
    },
    "kernelspec": {
      "display_name": "Python 3",
      "name": "python3"
    },
    "language_info": {
      "name": "python"
    }
  },
  "nbformat": 4,
  "nbformat_minor": 0
}
